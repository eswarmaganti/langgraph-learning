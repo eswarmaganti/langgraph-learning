
{
 "cells": [
  {
   "cell_type": "code",
   "execution_count": 7,
   "id": "9e1aaa9b",
   "metadata": {},
   "outputs": [],
   "source": [
    "from langgraph.graph import StateGraph\n",
    "from IPython.display import Image, display  \n",
    "from typing import TypedDict, List, Dict, Union"
   ]
  },
  {
   "cell_type": "code",
   "execution_count": 8,
   "id": "6c0edb42",
   "metadata": {},
   "outputs": [],
   "source": [
    "# defining the agent state\n",
    "class AgentState(TypedDict):\n",
    "    name: str\n",
    "    values: List[int]\n",
    "    operation: str\n",
    "    result: Union[str,int,float]\n"
   ]
  },
  {
   "cell_type": "code",
   "execution_count": 25,
   "id": "012ff7b5-77dd-4cf9-96d0-7696421911fc",
   "metadata": {},
   "outputs": [],
   "source": [
    "# defining the node\n",
    "from  functools import reduce\n",
    "\n",
    "def perform_arithmetic_operation(state: AgentState) -> AgentState:\n",
    "\n",
    "    operation = state.get(\"operation\")\n",
    "   \n",
    "    if operation == '+':\n",
    "        result = reduce(lambda a,b: a+b, state.get('values'))\n",
    "        print(result)\n",
    "    elif operation == '-':\n",
    "        result = reduce(lambda a,b: a-b, state.get('values'))\n",
    "    elif operation == '*':\n",
    "        result = reduce(lambda a,b: a*b, state.get('values'))\n",
    "    elif operation == '/':\n",
    "        result = reduce(lambda a,b: a/b, state.get('values'))\n",
    "    else:\n",
    "        result = \"Invald Operation\"\n",
    "\n",
    "    state['result'] = f'''Hi {state.get('name')}, your answer is {result}'''\n",
    "    return state"
   ]
  },
  {
   "cell_type": "code",
   "execution_count": 26,
   "id": "be314d3d-da31-40e0-adb3-9c60681acb4e",
   "metadata": {},
   "outputs": [],
   "source": [
    "# defining the graph and setting the start and endpoints\n",
    "\n",
    "graph = StateGraph(AgentState)\n",
    "\n",
    "graph.add_node(node='arithmetic_operation', action=perform_arithmetic_operation)\n",
    "\n",
    "graph.set_entry_point(\"arithmetic_operation\")\n",
    "graph.set_finish_point(\"arithmetic_operation\")\n",
    "\n",
    "app = graph.compile()"
   ]
  },
  {
   "cell_type": "code",
   "execution_count": 27,
   "id": "dd75c7fc-1479-48f4-894f-344741f43f5e",
   "metadata": {},
   "outputs": [
    {
     "data": {
      "image/png": "[encoded data removed]",
      "text/plain": [
       "<IPython.core.display.Image object>"
      ]
     },
     "metadata": {},
     "output_type": "display_data"
    }
   ],
   "source": [
    "# displaying the graph using IPython Library\n",
    "\n",
    "display(Image(app.get_graph().draw_mermaid_png()))"
   ]
  },
  {
   "cell_type": "code",
   "execution_count": 28,
   "id": "ccd4cfb3-47e3-4fa0-9738-87ad580004e2",
   "metadata": {},
   "outputs": [
    {
     "name": "stdout",
     "output_type": "stream",
     "text": [
      "15\n",
      "{'name': 'Eswar', 'values': [1, 2, 3, 4, 5], 'operation': '+', 'result': 'Hi Eswar, your answer is 15'}\n"
     ]
    }
   ],
   "source": [
    "# invoking the graph\n",
    "\n",
    "initial_state = {\"name\": \"Eswar\", \"operation\":\"+\", \"values\":[1,2,3,4,5]}\n",
    "\n",
    "result = app.invoke(initial_state)\n",
    "print(result)"
   ]
  },
  {
   "cell_type": "code",
   "execution_count": 29,
   "id": "93086001-c5cb-40f0-91fe-9c179b7e48b1",
   "metadata": {},
   "outputs": [
    {
     "name": "stdout",
     "output_type": "stream",
     "text": [
      "{'name': 'Eswar', 'values': [1, 2, 3, 4, 5], 'operation': '-', 'result': 'Hi Eswar, your answer is -13'}\n"
     ]
    }
   ],
   "source": [
    "initial_state = {\"name\": \"Eswar\", \"operation\":\"-\", \"values\":[1,2,3,4,5]}\n",
    "\n",
    "result = app.invoke(initial_state)\n",
    "print(result)"
   ]
  },
  {
   "cell_type": "code",
   "execution_count": 30,
   "id": "12ed9f3e-1429-4915-ba17-2397e22f6558",
   "metadata": {},
   "outputs": [
    {
     "name": "stdout",
     "output_type": "stream",
     "text": [
      "{'name': 'Eswar', 'values': [1, 2, 3, 4, 5], 'operation': '*', 'result': 'Hi Eswar, your answer is 120'}\n"
     ]
    }
   ],
   "source": [
    "initial_state = {\"name\": \"Eswar\", \"operation\":\"*\", \"values\":[1,2,3,4,5]}\n",
    "\n",
    "result = app.invoke(initial_state)\n",
    "print(result)"
   ]
  },
  {
   "cell_type": "code",
   "execution_count": 31,
   "id": "73013a1f-74a9-4ea4-b19b-371acc980697",
   "metadata": {},
   "outputs": [
    {
     "name": "stdout",
     "output_type": "stream",
     "text": [
      "{'name': 'Eswar', 'values': [1, 2, 3, 4, 5], 'operation': '/', 'result': 'Hi Eswar, your answer is 0.008333333333333333'}\n"
     ]
    }
   ],
   "source": [
    "initial_state = {\"name\": \"Eswar\", \"operation\":\"/\", \"values\":[1,2,3,4,5]}\n",
    "\n",
    "result = app.invoke(initial_state)\n",
    "print(result)"
   ]
  },
  {
   "cell_type": "code",
   "execution_count": null,
   "id": "9988ab02-310e-420b-b0d4-a7bf69c4a5a7",
   "metadata": {},
   "outputs": [],
   "source": []
  }
 ],
 "metadata": {
  "kernelspec": {
   "display_name": "Python 3",
   "language": "python",
   "name": "python3"
  },
  "language_info": {
   "codemirror_mode": {
    "name": "ipython",
    "version": 3
   },
   "file_extension": ".py",
   "mimetype": "text/x-python",
   "name": "python",
   "nbconvert_exporter": "python",
   "pygments_lexer": "ipython3",
   "version": "3.13.3"
  }
 },
 "nbformat": 4,
 "nbformat_minor": 5
}