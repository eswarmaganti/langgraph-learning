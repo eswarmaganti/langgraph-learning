{
 "cells": [
  {
   "cell_type": "code",
   "execution_count": 1,
   "id": "1d9a02cd-d505-425e-9940-d9344ee59f41",
   "metadata": {},
   "outputs": [],
   "source": [
    "from langgraph.graph import StateGraph\n",
    "from typing import Dict, TypedDict"
   ]
  },
  {
   "cell_type": "code",
   "execution_count": 8,
   "id": "29fae6f6-a23c-4133-8e78-ca32f0398cb1",
   "metadata": {},
   "outputs": [],
   "source": [
    "# defining the agent state\n",
    "\n",
    "class AgentState(TypedDict):\n",
    "    name: str\n",
    "    message: str\n",
    "\n",
    "# defining the node\n",
    "def complement_node(state: AgentState) -> AgentState:\n",
    "    '''Complement Node that generates a customized complement'''\n",
    "    state['message'] = f\"{state.get('name')}, You are doing a great job by learning LangGraph!!\"\n",
    "    return state\n"
   ]
  },
  {
   "cell_type": "code",
   "execution_count": 9,
   "id": "efe2503a-d604-4b53-a1d3-f7e84312b4a6",
   "metadata": {},
   "outputs": [],
   "source": [
    "# defining the graph\n",
    "graph = StateGraph(AgentState)\n",
    "\n",
    "# adding the node to the graph\n",
    "graph.add_node(\"complement\", complement_node)\n",
    "\n",
    "# defining the start and end points\n",
    "graph.set_entry_point(\"complement\")\n",
    "graph.set_finish_point(\"complement\")\n",
    "\n",
    "# compiling the graph\n",
    "app = graph.compile()"
   ]
  },
  {
   "cell_type": "code",
   "execution_count": 11,
   "id": "2cb9bb7c-1bbd-49e6-a65d-71954dafe497",
   "metadata": {},
   "outputs": [
    {
     "name": "stdout",
     "output_type": "stream",
     "text": [
      "Eswar Maganti, You are doing a great job by learning LangGraph!!\n"
     ]
    }
   ],
   "source": [
    "# invoking the graph with a user name\n",
    "result = app.invoke({\"name\": \"Eswar Maganti\"})\n",
    "\n",
    "print(result['message'])"
   ]
  },
  {
   "cell_type": "code",
   "execution_count": null,
   "id": "52b77e4d-859d-472f-89d0-f9cf95f9e0e6",
   "metadata": {},
   "outputs": [],
   "source": []
  }
 ],
 "metadata": {
  "kernelspec": {
   "display_name": "Python [conda env:base] *",
   "language": "python",
   "name": "conda-base-py"
  },
  "language_info": {
   "codemirror_mode": {
    "name": "ipython",
    "version": 3
   },
   "file_extension": ".py",
   "mimetype": "text/x-python",
   "name": "python",
   "nbconvert_exporter": "python",
   "pygments_lexer": "ipython3",
   "version": "3.12.7"
  }
 },
 "nbformat": 4,
 "nbformat_minor": 5
}
